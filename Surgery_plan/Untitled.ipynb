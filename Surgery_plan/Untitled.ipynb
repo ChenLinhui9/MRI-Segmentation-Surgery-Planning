{
 "cells": [
  {
   "cell_type": "code",
   "execution_count": 19,
   "metadata": {},
   "outputs": [],
   "source": [
    "from numpy import load\n",
    "import matplotlib.pyplot as plt\n",
    "import numpy as np\n",
    "from mpl_toolkits.mplot3d import Axes3D\n",
    "\n",
    "dict_data = load('/Users/apple/Desktop/graduate/Machine_Learning_Theory/MRI/npz/OAS1_0019_MR.npz')\n",
    "data = dict_data['arr_0']\n",
    "\n",
    "dict_data = load('/Users/apple/Desktop/graduate/Machine_Learning_Theory/MRI/npz/OAS1_0019_MRseg.npz')\n",
    "data2 = dict_data['arr_0']\n",
    "\n",
    "\n",
    "dict1_data = dict_data = load('/Users/apple/Desktop/graduate/Machine_Learning_Theory/MRI/OAS1_0019_MRskull_seg.npz')\n",
    "data3 = dict1_data['arr_0']\n",
    "\n",
    "dict2_data = dict_data = load('/Users/apple/Desktop/graduate/Machine_Learning_Theory/MRI/OAS1_0019_MRobs_seg.npz')\n",
    "data4 = dict2_data['arr_0']"
   ]
  },
  {
   "cell_type": "code",
   "execution_count": 20,
   "metadata": {},
   "outputs": [
    {
     "name": "stdout",
     "output_type": "stream",
     "text": [
      "[[ 20  72  11]\n",
      " [ 20  72  12]\n",
      " [ 20  73  11]\n",
      " ...\n",
      " [160  82  83]\n",
      " [160  83  83]\n",
      " [160  84  83]]\n",
      "[[  0  32  43]\n",
      " [  0  32  44]\n",
      " [  0  32  45]\n",
      " ...\n",
      " [172 107  90]\n",
      " [172 107  91]\n",
      " [172 107  92]]\n"
     ]
    }
   ],
   "source": [
    "segment_ven = np.matrix(np.nonzero(data2 > 0))\n",
    "segment_skull = np.matrix(np.nonzero(data3 > 0))\n",
    "a = np.matrix(np.nonzero(data4 > 0))\n",
    "segment_ven = segment_ven.T\n",
    "segment_skull = segment_skull.T\n",
    "print(a.T)\n",
    "print(segment_skull)"
   ]
  },
  {
   "cell_type": "code",
   "execution_count": 17,
   "metadata": {},
   "outputs": [
    {
     "data": {
      "text/plain": [
       "(3, 366365)"
      ]
     },
     "execution_count": 17,
     "metadata": {},
     "output_type": "execute_result"
    }
   ],
   "source": [
    "a.shape"
   ]
  },
  {
   "cell_type": "code",
   "execution_count": 18,
   "metadata": {},
   "outputs": [
    {
     "data": {
      "text/plain": [
       "(366365, 3)"
      ]
     },
     "execution_count": 18,
     "metadata": {},
     "output_type": "execute_result"
    }
   ],
   "source": [
    "segment_skull.shape"
   ]
  },
  {
   "cell_type": "code",
   "execution_count": null,
   "metadata": {},
   "outputs": [],
   "source": []
  }
 ],
 "metadata": {
  "kernelspec": {
   "display_name": "Python 3",
   "language": "python",
   "name": "python3"
  },
  "language_info": {
   "codemirror_mode": {
    "name": "ipython",
    "version": 3
   },
   "file_extension": ".py",
   "mimetype": "text/x-python",
   "name": "python",
   "nbconvert_exporter": "python",
   "pygments_lexer": "ipython3",
   "version": "3.7.1"
  }
 },
 "nbformat": 4,
 "nbformat_minor": 2
}
